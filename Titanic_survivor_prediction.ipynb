{
  "nbformat": 4,
  "nbformat_minor": 0,
  "metadata": {
    "colab": {
      "provenance": [],
      "authorship_tag": "ABX9TyOV0eLlWTa7RFIF0eRYmR7h",
      "include_colab_link": true
    },
    "kernelspec": {
      "name": "python3",
      "display_name": "Python 3"
    },
    "language_info": {
      "name": "python"
    }
  },
  "cells": [
    {
      "cell_type": "markdown",
      "metadata": {
        "id": "view-in-github",
        "colab_type": "text"
      },
      "source": [
        "<a href=\"https://colab.research.google.com/github/buzo14/titanic-survivor-prediction/blob/main/Titanic_survivor_prediction.ipynb\" target=\"_parent\"><img src=\"https://colab.research.google.com/assets/colab-badge.svg\" alt=\"Open In Colab\"/></a>"
      ]
    },
    {
      "cell_type": "code",
      "source": [
        "from google.colab import files\n",
        "files.upload()"
      ],
      "metadata": {
        "colab": {
          "base_uri": "https://localhost:8080/",
          "height": 91
        },
        "id": "oU_hsrFIIgQ_",
        "outputId": "383d0038-3f1c-4d19-87e8-adb07e4c3032"
      },
      "execution_count": 1,
      "outputs": [
        {
          "output_type": "display_data",
          "data": {
            "text/plain": [
              "<IPython.core.display.HTML object>"
            ],
            "text/html": [
              "\n",
              "     <input type=\"file\" id=\"files-d86e28d2-12e7-4c40-9277-40e7e6922d81\" name=\"files[]\" multiple disabled\n",
              "        style=\"border:none\" />\n",
              "     <output id=\"result-d86e28d2-12e7-4c40-9277-40e7e6922d81\">\n",
              "      Upload widget is only available when the cell has been executed in the\n",
              "      current browser session. Please rerun this cell to enable.\n",
              "      </output>\n",
              "      <script>// Copyright 2017 Google LLC\n",
              "//\n",
              "// Licensed under the Apache License, Version 2.0 (the \"License\");\n",
              "// you may not use this file except in compliance with the License.\n",
              "// You may obtain a copy of the License at\n",
              "//\n",
              "//      http://www.apache.org/licenses/LICENSE-2.0\n",
              "//\n",
              "// Unless required by applicable law or agreed to in writing, software\n",
              "// distributed under the License is distributed on an \"AS IS\" BASIS,\n",
              "// WITHOUT WARRANTIES OR CONDITIONS OF ANY KIND, either express or implied.\n",
              "// See the License for the specific language governing permissions and\n",
              "// limitations under the License.\n",
              "\n",
              "/**\n",
              " * @fileoverview Helpers for google.colab Python module.\n",
              " */\n",
              "(function(scope) {\n",
              "function span(text, styleAttributes = {}) {\n",
              "  const element = document.createElement('span');\n",
              "  element.textContent = text;\n",
              "  for (const key of Object.keys(styleAttributes)) {\n",
              "    element.style[key] = styleAttributes[key];\n",
              "  }\n",
              "  return element;\n",
              "}\n",
              "\n",
              "// Max number of bytes which will be uploaded at a time.\n",
              "const MAX_PAYLOAD_SIZE = 100 * 1024;\n",
              "\n",
              "function _uploadFiles(inputId, outputId) {\n",
              "  const steps = uploadFilesStep(inputId, outputId);\n",
              "  const outputElement = document.getElementById(outputId);\n",
              "  // Cache steps on the outputElement to make it available for the next call\n",
              "  // to uploadFilesContinue from Python.\n",
              "  outputElement.steps = steps;\n",
              "\n",
              "  return _uploadFilesContinue(outputId);\n",
              "}\n",
              "\n",
              "// This is roughly an async generator (not supported in the browser yet),\n",
              "// where there are multiple asynchronous steps and the Python side is going\n",
              "// to poll for completion of each step.\n",
              "// This uses a Promise to block the python side on completion of each step,\n",
              "// then passes the result of the previous step as the input to the next step.\n",
              "function _uploadFilesContinue(outputId) {\n",
              "  const outputElement = document.getElementById(outputId);\n",
              "  const steps = outputElement.steps;\n",
              "\n",
              "  const next = steps.next(outputElement.lastPromiseValue);\n",
              "  return Promise.resolve(next.value.promise).then((value) => {\n",
              "    // Cache the last promise value to make it available to the next\n",
              "    // step of the generator.\n",
              "    outputElement.lastPromiseValue = value;\n",
              "    return next.value.response;\n",
              "  });\n",
              "}\n",
              "\n",
              "/**\n",
              " * Generator function which is called between each async step of the upload\n",
              " * process.\n",
              " * @param {string} inputId Element ID of the input file picker element.\n",
              " * @param {string} outputId Element ID of the output display.\n",
              " * @return {!Iterable<!Object>} Iterable of next steps.\n",
              " */\n",
              "function* uploadFilesStep(inputId, outputId) {\n",
              "  const inputElement = document.getElementById(inputId);\n",
              "  inputElement.disabled = false;\n",
              "\n",
              "  const outputElement = document.getElementById(outputId);\n",
              "  outputElement.innerHTML = '';\n",
              "\n",
              "  const pickedPromise = new Promise((resolve) => {\n",
              "    inputElement.addEventListener('change', (e) => {\n",
              "      resolve(e.target.files);\n",
              "    });\n",
              "  });\n",
              "\n",
              "  const cancel = document.createElement('button');\n",
              "  inputElement.parentElement.appendChild(cancel);\n",
              "  cancel.textContent = 'Cancel upload';\n",
              "  const cancelPromise = new Promise((resolve) => {\n",
              "    cancel.onclick = () => {\n",
              "      resolve(null);\n",
              "    };\n",
              "  });\n",
              "\n",
              "  // Wait for the user to pick the files.\n",
              "  const files = yield {\n",
              "    promise: Promise.race([pickedPromise, cancelPromise]),\n",
              "    response: {\n",
              "      action: 'starting',\n",
              "    }\n",
              "  };\n",
              "\n",
              "  cancel.remove();\n",
              "\n",
              "  // Disable the input element since further picks are not allowed.\n",
              "  inputElement.disabled = true;\n",
              "\n",
              "  if (!files) {\n",
              "    return {\n",
              "      response: {\n",
              "        action: 'complete',\n",
              "      }\n",
              "    };\n",
              "  }\n",
              "\n",
              "  for (const file of files) {\n",
              "    const li = document.createElement('li');\n",
              "    li.append(span(file.name, {fontWeight: 'bold'}));\n",
              "    li.append(span(\n",
              "        `(${file.type || 'n/a'}) - ${file.size} bytes, ` +\n",
              "        `last modified: ${\n",
              "            file.lastModifiedDate ? file.lastModifiedDate.toLocaleDateString() :\n",
              "                                    'n/a'} - `));\n",
              "    const percent = span('0% done');\n",
              "    li.appendChild(percent);\n",
              "\n",
              "    outputElement.appendChild(li);\n",
              "\n",
              "    const fileDataPromise = new Promise((resolve) => {\n",
              "      const reader = new FileReader();\n",
              "      reader.onload = (e) => {\n",
              "        resolve(e.target.result);\n",
              "      };\n",
              "      reader.readAsArrayBuffer(file);\n",
              "    });\n",
              "    // Wait for the data to be ready.\n",
              "    let fileData = yield {\n",
              "      promise: fileDataPromise,\n",
              "      response: {\n",
              "        action: 'continue',\n",
              "      }\n",
              "    };\n",
              "\n",
              "    // Use a chunked sending to avoid message size limits. See b/62115660.\n",
              "    let position = 0;\n",
              "    do {\n",
              "      const length = Math.min(fileData.byteLength - position, MAX_PAYLOAD_SIZE);\n",
              "      const chunk = new Uint8Array(fileData, position, length);\n",
              "      position += length;\n",
              "\n",
              "      const base64 = btoa(String.fromCharCode.apply(null, chunk));\n",
              "      yield {\n",
              "        response: {\n",
              "          action: 'append',\n",
              "          file: file.name,\n",
              "          data: base64,\n",
              "        },\n",
              "      };\n",
              "\n",
              "      let percentDone = fileData.byteLength === 0 ?\n",
              "          100 :\n",
              "          Math.round((position / fileData.byteLength) * 100);\n",
              "      percent.textContent = `${percentDone}% done`;\n",
              "\n",
              "    } while (position < fileData.byteLength);\n",
              "  }\n",
              "\n",
              "  // All done.\n",
              "  yield {\n",
              "    response: {\n",
              "      action: 'complete',\n",
              "    }\n",
              "  };\n",
              "}\n",
              "\n",
              "scope.google = scope.google || {};\n",
              "scope.google.colab = scope.google.colab || {};\n",
              "scope.google.colab._files = {\n",
              "  _uploadFiles,\n",
              "  _uploadFilesContinue,\n",
              "};\n",
              "})(self);\n",
              "</script> "
            ]
          },
          "metadata": {}
        },
        {
          "output_type": "stream",
          "name": "stdout",
          "text": [
            "Saving kaggle.json to kaggle.json\n"
          ]
        },
        {
          "output_type": "execute_result",
          "data": {
            "text/plain": [
              "{'kaggle.json': b'{\"username\":\"henryochiabuto\",\"key\":\"ce8af37b0718cba3f3046a0b321bc303\"}'}"
            ]
          },
          "metadata": {},
          "execution_count": 1
        }
      ]
    },
    {
      "cell_type": "code",
      "source": [
        "!rm -r ~/.kaggle\n",
        "!mkdir ~/.kaggle\n",
        "!mv ./kaggle.json ~/.kaggle/\n",
        "!chmod 600 ~/.kaggle/kaggle.json\n",
        "#!kaggle datasets list"
      ],
      "metadata": {
        "id": "xbKCSmyD37dp"
      },
      "execution_count": 3,
      "outputs": []
    },
    {
      "cell_type": "code",
      "source": [
        "!kaggle competitions download -c titanic"
      ],
      "metadata": {
        "id": "a68VLPI737Un",
        "colab": {
          "base_uri": "https://localhost:8080/"
        },
        "outputId": "88dce147-536a-433b-ecdf-8fc100e3d7b3"
      },
      "execution_count": 4,
      "outputs": [
        {
          "output_type": "stream",
          "name": "stdout",
          "text": [
            "Downloading titanic.zip to /content\n",
            "\r  0% 0.00/34.1k [00:00<?, ?B/s]\n",
            "\r100% 34.1k/34.1k [00:00<00:00, 52.1MB/s]\n"
          ]
        }
      ]
    },
    {
      "cell_type": "code",
      "source": [
        "import zipfile\n",
        "zip_ref = zipfile.ZipFile('/content/titanic.zip', 'r')\n",
        "zip_ref.extractall('/content')\n",
        "zip_ref.close()"
      ],
      "metadata": {
        "id": "u3028iD0AkhT"
      },
      "execution_count": 6,
      "outputs": []
    },
    {
      "cell_type": "code",
      "source": [
        "# Importing pandas for analysis\n",
        "import pandas as pd"
      ],
      "metadata": {
        "id": "jgxpsT5duz0u"
      },
      "execution_count": 5,
      "outputs": []
    },
    {
      "cell_type": "code",
      "source": [
        "# Using pandas to read in our csv files\n",
        "train_df = pd.read_csv('/content/train.csv')\n",
        "test_df = pd.read_csv('/content/test.csv')"
      ],
      "metadata": {
        "id": "Vq1_ncRRvNbw"
      },
      "execution_count": 7,
      "outputs": []
    },
    {
      "cell_type": "code",
      "source": [
        "# Three columns are dropped that have little or no use to our model\n",
        "\n",
        "train_data = train_df.drop(['Name', 'Ticket', 'Cabin'], axis=1)\n",
        "test_data = test_df.drop(['Name', 'Ticket', 'Cabin'], axis=1)\n",
        "\n",
        "print(train_data.head())\n",
        "print(test_data.head())"
      ],
      "metadata": {
        "colab": {
          "base_uri": "https://localhost:8080/"
        },
        "id": "6Cz487BxwRXi",
        "outputId": "5ca84b36-e2e8-419a-e88d-6a967bff4545"
      },
      "execution_count": 8,
      "outputs": [
        {
          "output_type": "stream",
          "name": "stdout",
          "text": [
            "   PassengerId  Survived  Pclass     Sex   Age  SibSp  Parch     Fare Embarked\n",
            "0            1         0       3    male  22.0      1      0   7.2500        S\n",
            "1            2         1       1  female  38.0      1      0  71.2833        C\n",
            "2            3         1       3  female  26.0      0      0   7.9250        S\n",
            "3            4         1       1  female  35.0      1      0  53.1000        S\n",
            "4            5         0       3    male  35.0      0      0   8.0500        S\n",
            "   PassengerId  Pclass     Sex   Age  SibSp  Parch     Fare Embarked\n",
            "0          892       3    male  34.5      0      0   7.8292        Q\n",
            "1          893       3  female  47.0      1      0   7.0000        S\n",
            "2          894       2    male  62.0      0      0   9.6875        Q\n",
            "3          895       3    male  27.0      0      0   8.6625        S\n",
            "4          896       3  female  22.0      1      1  12.2875        S\n"
          ]
        }
      ]
    },
    {
      "cell_type": "code",
      "source": [
        "print(train_data.info())\n",
        "print(test_data.info())"
      ],
      "metadata": {
        "colab": {
          "base_uri": "https://localhost:8080/"
        },
        "id": "-biBukVXxCR1",
        "outputId": "a7771dc9-4573-4359-e142-8475b4aea73e"
      },
      "execution_count": 9,
      "outputs": [
        {
          "output_type": "stream",
          "name": "stdout",
          "text": [
            "<class 'pandas.core.frame.DataFrame'>\n",
            "RangeIndex: 891 entries, 0 to 890\n",
            "Data columns (total 9 columns):\n",
            " #   Column       Non-Null Count  Dtype  \n",
            "---  ------       --------------  -----  \n",
            " 0   PassengerId  891 non-null    int64  \n",
            " 1   Survived     891 non-null    int64  \n",
            " 2   Pclass       891 non-null    int64  \n",
            " 3   Sex          891 non-null    object \n",
            " 4   Age          714 non-null    float64\n",
            " 5   SibSp        891 non-null    int64  \n",
            " 6   Parch        891 non-null    int64  \n",
            " 7   Fare         891 non-null    float64\n",
            " 8   Embarked     889 non-null    object \n",
            "dtypes: float64(2), int64(5), object(2)\n",
            "memory usage: 62.8+ KB\n",
            "None\n",
            "<class 'pandas.core.frame.DataFrame'>\n",
            "RangeIndex: 418 entries, 0 to 417\n",
            "Data columns (total 8 columns):\n",
            " #   Column       Non-Null Count  Dtype  \n",
            "---  ------       --------------  -----  \n",
            " 0   PassengerId  418 non-null    int64  \n",
            " 1   Pclass       418 non-null    int64  \n",
            " 2   Sex          418 non-null    object \n",
            " 3   Age          332 non-null    float64\n",
            " 4   SibSp        418 non-null    int64  \n",
            " 5   Parch        418 non-null    int64  \n",
            " 6   Fare         417 non-null    float64\n",
            " 7   Embarked     418 non-null    object \n",
            "dtypes: float64(2), int64(4), object(2)\n",
            "memory usage: 26.2+ KB\n",
            "None\n"
          ]
        }
      ]
    },
    {
      "cell_type": "code",
      "source": [
        "# Our feature columns are divided into numerical and categorical lists\n",
        "num_cols = ['Pclass', 'Age', 'SibSp', 'Parch', 'Fare']\n",
        "cat_cols = ['Sex', 'Embarked']\n",
        "\n",
        "X = train_data[num_cols+cat_cols]\n",
        "y = train_data['Survived']"
      ],
      "metadata": {
        "id": "BuQ1WDdS6D5d"
      },
      "execution_count": 10,
      "outputs": []
    },
    {
      "cell_type": "code",
      "source": [
        "# Train test split is imported and used to split our dataset\n",
        "from sklearn.model_selection import train_test_split\n",
        "X_train, X_test, y_train, y_test = train_test_split(X, y, test_size=0.2)"
      ],
      "metadata": {
        "id": "aoIx5qxU7bUJ"
      },
      "execution_count": 11,
      "outputs": []
    },
    {
      "cell_type": "code",
      "source": [
        "# Preprocessing packages and Pipeline are imported, a pipeline is used to preprocess our dataset\n",
        "from sklearn.impute import SimpleImputer\n",
        "from sklearn.preprocessing import OneHotEncoder, MinMaxScaler\n",
        "from sklearn.pipeline import Pipeline\n",
        "\n",
        "num_pipeline = Pipeline(steps=[\n",
        "    ('impute', SimpleImputer(strategy='mean')),\n",
        "    ('scale', MinMaxScaler())\n",
        "])\n",
        "cat_pipeline = Pipeline(steps=[\n",
        "    ('impute', SimpleImputer(strategy='most_frequent')),\n",
        "    ('one-hot', OneHotEncoder())\n",
        "])"
      ],
      "metadata": {
        "id": "vVqB9q5f8gcv"
      },
      "execution_count": 12,
      "outputs": []
    },
    {
      "cell_type": "code",
      "source": [
        "# ColumnTransformer is imported\n",
        "from sklearn.compose import ColumnTransformer\n",
        "\n",
        "col_trans = ColumnTransformer(transformers=[\n",
        "    ('num_pipeline',num_pipeline,num_cols),\n",
        "    ('cat_pipeline',cat_pipeline,cat_cols)\n",
        "    ],\n",
        "    remainder='drop',\n",
        "    n_jobs=-1)"
      ],
      "metadata": {
        "id": "jMA-eqBbHzKy"
      },
      "execution_count": 13,
      "outputs": []
    },
    {
      "cell_type": "code",
      "source": [
        "# Using LogisticRegression, we pass in our model into a pipeline\n",
        "from sklearn.linear_model import LogisticRegression\n",
        "\n",
        "lg = LogisticRegression(max_iter=10000, random_state=14)\n",
        "lg_pipeline = Pipeline(steps=[\n",
        "    ('col_trans', col_trans),\n",
        "    ('model', lg)\n",
        "])"
      ],
      "metadata": {
        "id": "IXyGjxiSIPHy"
      },
      "execution_count": 14,
      "outputs": []
    },
    {
      "cell_type": "code",
      "source": [
        "# We fit the data into our model and calculate its accuracy\n",
        "\n",
        "from sklearn.metrics import confusion_matrix, accuracy_score\n",
        "lg_pipeline.fit(X_train, y_train)\n",
        "preds = lg_pipeline.predict(X_test)\n",
        "cm_lg = confusion_matrix(y_test,preds)\n",
        "accuracy_lg = accuracy_score(y_test,preds)\n",
        "print(cm_lg, accuracy_lg)"
      ],
      "metadata": {
        "colab": {
          "base_uri": "https://localhost:8080/"
        },
        "id": "OB5Zo3glySa-",
        "outputId": "3cbb9c41-cdc8-4e5a-f3e2-4ebd015229be"
      },
      "execution_count": 15,
      "outputs": [
        {
          "output_type": "stream",
          "name": "stdout",
          "text": [
            "[[96 19]\n",
            " [20 44]] 0.7821229050279329\n"
          ]
        }
      ]
    },
    {
      "cell_type": "code",
      "source": [
        "#  Using SVM, we pass in our model into a pipeline\n",
        "\n",
        "from sklearn.svm import SVC\n",
        "svm = SVC(kernel = 'linear', random_state=14)\n",
        "\n",
        "svm_pipeline = Pipeline(steps=[\n",
        "    ('col_trans', col_trans),\n",
        "    ('model', svm)\n",
        "])\n",
        "svm_pipeline.fit(X_train, y_train)\n",
        "pred_svm = svm_pipeline.predict(X_test)\n",
        "\n",
        "cm_svm= confusion_matrix(y_test,pred_svm)\n",
        "accuracy_svm = accuracy_score(y_test,pred_svm)\n",
        "\n",
        "print(cm_svm)\n",
        "print(accuracy_svm)"
      ],
      "metadata": {
        "colab": {
          "base_uri": "https://localhost:8080/"
        },
        "id": "ZkTianvccRKp",
        "outputId": "8a070c99-d70e-49a4-824f-1cc2db1ca95a"
      },
      "execution_count": 16,
      "outputs": [
        {
          "output_type": "stream",
          "name": "stdout",
          "text": [
            "[[98 17]\n",
            " [23 41]]\n",
            "0.776536312849162\n"
          ]
        }
      ]
    },
    {
      "cell_type": "code",
      "source": [
        "Xt = test_data[num_cols+cat_cols]\n",
        "preds = lg_pipeline.predict(Xt)"
      ],
      "metadata": {
        "id": "x7Sj1pCC5G9J"
      },
      "execution_count": 17,
      "outputs": []
    },
    {
      "cell_type": "code",
      "source": [
        "test_result = pd.DataFrame(test_data['PassengerId'])\n",
        "test_result.insert(1, 'Survived', preds)\n",
        "test_result.to_csv('test_result.csv', index=False)"
      ],
      "metadata": {
        "id": "TpwX9XTO0cG-"
      },
      "execution_count": 18,
      "outputs": []
    },
    {
      "cell_type": "code",
      "source": [],
      "metadata": {
        "id": "mSRf99VOOJLH"
      },
      "execution_count": null,
      "outputs": []
    }
  ]
}